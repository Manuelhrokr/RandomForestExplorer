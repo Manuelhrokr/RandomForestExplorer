{
 "cells": [
  {
   "cell_type": "code",
   "execution_count": 38,
   "id": "5af41e41",
   "metadata": {},
   "outputs": [],
   "source": [
    "import numpy as np\n",
    "import pandas as pd\n",
    "\n",
    "from sklearn import datasets \n",
    "from sklearn.model_selection import train_test_split\n",
    "from sklearn.ensemble import RandomForestClassifier\n",
    "from sklearn.metrics import accuracy_score\n",
    "\n",
    "from RandomForestExplorer.find_rules import find_rules\n",
    "from RandomForestExplorer.find_rules import find_rules_on_samples"
   ]
  },
  {
   "cell_type": "code",
   "execution_count": 39,
   "id": "82f9560f",
   "metadata": {},
   "outputs": [],
   "source": [
    "iris_data = datasets.load_iris()\n",
    "feature_names = iris_data['feature_names']"
   ]
  },
  {
   "cell_type": "code",
   "execution_count": 47,
   "id": "5ce08853",
   "metadata": {},
   "outputs": [],
   "source": [
    "X = iris_data['data'].astype(np.float32)\n",
    "y = iris_data['target']\n",
    "\n",
    "#to drop class with label y=2\n",
    "mask = y == 2\n",
    "X = X[~mask].astype(np.float32)\n",
    "y = y[~mask]\n",
    "\n",
    "X_train, X_test, y_train, y_test = train_test_split(X, y, test_size=0.3, random_state=0)\n",
    "\n",
    "seed = 0 # for reproducibity\n",
    "n_estimators=100\n",
    "rf = RandomForestClassifier(n_estimators=n_estimators, random_state=seed).fit(X_train, y_train)"
   ]
  },
  {
   "cell_type": "code",
   "execution_count": 48,
   "id": "b802233b",
   "metadata": {},
   "outputs": [
    {
     "data": {
      "text/plain": [
       "1.0"
      ]
     },
     "execution_count": 48,
     "metadata": {},
     "output_type": "execute_result"
    }
   ],
   "source": [
    "y_test_pred = rf.predict(X_test)\n",
    "accuracy_score(y_test, y_test_pred)"
   ]
  },
  {
   "cell_type": "code",
   "execution_count": 49,
   "id": "127ccf14",
   "metadata": {},
   "outputs": [],
   "source": [
    "sample_id = 0\n",
    "rules, is_pred_correct = find_rules(rf, X_test[sample_id], y_test[sample_id], min_support=0.4)"
   ]
  },
  {
   "cell_type": "code",
   "execution_count": 50,
   "id": "d1bc0e05",
   "metadata": {},
   "outputs": [
    {
     "data": {
      "text/html": [
       "<div>\n",
       "<style scoped>\n",
       "    .dataframe tbody tr th:only-of-type {\n",
       "        vertical-align: middle;\n",
       "    }\n",
       "\n",
       "    .dataframe tbody tr th {\n",
       "        vertical-align: top;\n",
       "    }\n",
       "\n",
       "    .dataframe thead th {\n",
       "        text-align: right;\n",
       "    }\n",
       "</style>\n",
       "<table border=\"1\" class=\"dataframe\">\n",
       "  <thead>\n",
       "    <tr style=\"text-align: right;\">\n",
       "      <th></th>\n",
       "      <th>support</th>\n",
       "      <th>itemsets</th>\n",
       "    </tr>\n",
       "  </thead>\n",
       "  <tbody>\n",
       "    <tr>\n",
       "      <th>0</th>\n",
       "      <td>0.50</td>\n",
       "      <td>((2, 2.449999988079071, 1))</td>\n",
       "    </tr>\n",
       "    <tr>\n",
       "      <th>1</th>\n",
       "      <td>0.44</td>\n",
       "      <td>((3, 0.75, 1))</td>\n",
       "    </tr>\n",
       "  </tbody>\n",
       "</table>\n",
       "</div>"
      ],
      "text/plain": [
       "   support                     itemsets\n",
       "0     0.50  ((2, 2.449999988079071, 1))\n",
       "1     0.44               ((3, 0.75, 1))"
      ]
     },
     "execution_count": 50,
     "metadata": {},
     "output_type": "execute_result"
    }
   ],
   "source": [
    "rules"
   ]
  },
  {
   "cell_type": "code",
   "execution_count": 51,
   "id": "474384d9",
   "metadata": {},
   "outputs": [
    {
     "data": {
      "text/plain": [
       "True"
      ]
     },
     "execution_count": 51,
     "metadata": {},
     "output_type": "execute_result"
    }
   ],
   "source": [
    "is_pred_correct"
   ]
  },
  {
   "cell_type": "markdown",
   "id": "feb70cb5",
   "metadata": {},
   "source": [
    "## Get rules for set of observations in the same class"
   ]
  },
  {
   "cell_type": "code",
   "execution_count": 52,
   "id": "ce5b0d59",
   "metadata": {},
   "outputs": [
    {
     "data": {
      "text/html": [
       "<div>\n",
       "<style scoped>\n",
       "    .dataframe tbody tr th:only-of-type {\n",
       "        vertical-align: middle;\n",
       "    }\n",
       "\n",
       "    .dataframe tbody tr th {\n",
       "        vertical-align: top;\n",
       "    }\n",
       "\n",
       "    .dataframe thead th {\n",
       "        text-align: right;\n",
       "    }\n",
       "</style>\n",
       "<table border=\"1\" class=\"dataframe\">\n",
       "  <thead>\n",
       "    <tr style=\"text-align: right;\">\n",
       "      <th></th>\n",
       "      <th>support</th>\n",
       "      <th>itemsets</th>\n",
       "    </tr>\n",
       "  </thead>\n",
       "  <tbody>\n",
       "    <tr>\n",
       "      <th>0</th>\n",
       "      <td>0.504435</td>\n",
       "      <td>((2, 2.449999988079071, 1))</td>\n",
       "    </tr>\n",
       "    <tr>\n",
       "      <th>1</th>\n",
       "      <td>0.442060</td>\n",
       "      <td>((3, 0.75, 1))</td>\n",
       "    </tr>\n",
       "  </tbody>\n",
       "</table>\n",
       "</div>"
      ],
      "text/plain": [
       "    support                     itemsets\n",
       "0  0.504435  ((2, 2.449999988079071, 1))\n",
       "1  0.442060               ((3, 0.75, 1))"
      ]
     },
     "execution_count": 52,
     "metadata": {},
     "output_type": "execute_result"
    }
   ],
   "source": [
    "class_id = 0\n",
    "\n",
    "y_true = class_id\n",
    "X_train_in_class = X_train[y_train == y_true]\n",
    "\n",
    "\n",
    "df = find_rules_on_samples(rf, X_train_in_class, y_true)\n",
    "df"
   ]
  },
  {
   "cell_type": "code",
   "execution_count": 53,
   "id": "a5dc0692",
   "metadata": {},
   "outputs": [
    {
     "data": {
      "text/html": [
       "<div>\n",
       "<style scoped>\n",
       "    .dataframe tbody tr th:only-of-type {\n",
       "        vertical-align: middle;\n",
       "    }\n",
       "\n",
       "    .dataframe tbody tr th {\n",
       "        vertical-align: top;\n",
       "    }\n",
       "\n",
       "    .dataframe thead th {\n",
       "        text-align: right;\n",
       "    }\n",
       "</style>\n",
       "<table border=\"1\" class=\"dataframe\">\n",
       "  <thead>\n",
       "    <tr style=\"text-align: right;\">\n",
       "      <th></th>\n",
       "      <th>support</th>\n",
       "      <th>itemsets</th>\n",
       "    </tr>\n",
       "  </thead>\n",
       "  <tbody>\n",
       "    <tr>\n",
       "      <th>0</th>\n",
       "      <td>0.497279</td>\n",
       "      <td>((2, 2.449999988079071, 0))</td>\n",
       "    </tr>\n",
       "    <tr>\n",
       "      <th>1</th>\n",
       "      <td>0.464050</td>\n",
       "      <td>((3, 0.75, 0))</td>\n",
       "    </tr>\n",
       "  </tbody>\n",
       "</table>\n",
       "</div>"
      ],
      "text/plain": [
       "    support                     itemsets\n",
       "0  0.497279  ((2, 2.449999988079071, 0))\n",
       "1  0.464050               ((3, 0.75, 0))"
      ]
     },
     "execution_count": 53,
     "metadata": {},
     "output_type": "execute_result"
    }
   ],
   "source": [
    "class_id = 1\n",
    "\n",
    "y_true = class_id\n",
    "X_train_in_class = X_train[y_train == y_true]\n",
    "\n",
    "\n",
    "df = find_rules_on_samples(rf, X_train_in_class, y_true)\n",
    "df"
   ]
  },
  {
   "cell_type": "code",
   "execution_count": 54,
   "id": "e9d8310c",
   "metadata": {},
   "outputs": [],
   "source": [
    "X_encoded = X[:,[2,3]]\n",
    "\n",
    "# we use the discovered rules to encode the data\n",
    "\n",
    "# column 0 of `X_test_encoded`, which is feature with index 2 in X_test\n",
    "mask = X_encoded[:, 0] < 2.45\n",
    "X_encoded[mask, 0] = 1\n",
    "X_encoded[~mask, 0] = 0\n",
    "\n",
    "# column 1 of `X_test_encoded`, which is feature with index 3 in X_test\n",
    "mask = X_encoded[:, 1] <  0.75\n",
    "X_encoded[mask, 1] = 1\n",
    "X_encoded[~mask, 1] = 0"
   ]
  },
  {
   "cell_type": "code",
   "execution_count": 55,
   "id": "9c94b870",
   "metadata": {},
   "outputs": [
    {
     "data": {
      "text/plain": [
       "1.0"
      ]
     },
     "execution_count": 55,
     "metadata": {},
     "output_type": "execute_result"
    }
   ],
   "source": [
    "X_train, X_test, y_train, y_test = train_test_split(X_encoded, y, test_size=0.3, random_state=0)\n",
    "\n",
    "seed = 0 # for reproducibity\n",
    "rf = RandomForestClassifier(n_estimators=10, random_state=seed).fit(X_train, y_train)\n",
    "y_test_pred = rf.predict(X_test)\n",
    "\n",
    "accuracy_score(y_test, y_test_pred)"
   ]
  },
  {
   "cell_type": "code",
   "execution_count": null,
   "id": "0e4ad4d4",
   "metadata": {},
   "outputs": [],
   "source": []
  }
 ],
 "metadata": {
  "kernelspec": {
   "display_name": "Python 3 (ipykernel)",
   "language": "python",
   "name": "python3"
  },
  "language_info": {
   "codemirror_mode": {
    "name": "ipython",
    "version": 3
   },
   "file_extension": ".py",
   "mimetype": "text/x-python",
   "name": "python",
   "nbconvert_exporter": "python",
   "pygments_lexer": "ipython3",
   "version": "3.9.13"
  }
 },
 "nbformat": 4,
 "nbformat_minor": 5
}
