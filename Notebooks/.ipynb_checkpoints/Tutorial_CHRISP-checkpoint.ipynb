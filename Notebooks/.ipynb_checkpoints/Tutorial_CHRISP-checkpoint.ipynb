{
 "cells": [
  {
   "cell_type": "markdown",
   "id": "0d94eda9",
   "metadata": {},
   "source": [
    "# Introduction"
   ]
  },
  {
   "cell_type": "markdown",
   "id": "39cdb5f9",
   "metadata": {},
   "source": [
    "In this notebook, we would like to implement the paper [CHRISP](https://link.springer.com/article/10.1007/s10462-020-09833-6). CHRISP is a method that tries to explain the random forest classifier decision making process. In other words, it generates data-driven rules based on what the random forest classifier makes the decisions. So, for instance, suppose we have a data that has only one feature $X \\in R$, and two classes $\\{0,1\\}$. Also suppose that observations with potitive values of X have label $1$, and the ones with negative values of X have label $0$. If we use RandomForest to model this data, a simple decision that can be made by the random forest is that whether X is positive or not. Therefore, in this very simple case, the rule is: \\n\n",
    "\n",
    "$ (x>0) \\longrightarrow label=1$"
   ]
  },
  {
   "cell_type": "markdown",
   "id": "edc56204",
   "metadata": {},
   "source": [
    "# import libraries"
   ]
  },
  {
   "cell_type": "code",
   "execution_count": 4,
   "id": "afce369d",
   "metadata": {},
   "outputs": [],
   "source": [
    "import numpy as np\n",
    "from sklearn import datasets \n",
    "from sklearn.ensemble import RandomForestClassifier"
   ]
  },
  {
   "cell_type": "markdown",
   "id": "c1739371",
   "metadata": {},
   "source": [
    "# Implement AdjacentSpaces\n",
    "**See Algorithm 1 on page 18**"
   ]
  },
  {
   "cell_type": "code",
   "execution_count": 12,
   "id": "0ed4d5b7",
   "metadata": {},
   "outputs": [],
   "source": [
    "def _get_adjacent_identifier(subspace_range, space_range):\n",
    "    \"\"\"\n",
    "    This function find adjacent spaces of a subspace_range enclosed by space_range\n",
    "    \n",
    "    Parameters\n",
    "    ----------\n",
    "    \n",
    "    subspace_range : numpy.ndarray\n",
    "        has shape (p, 2), where p is the number of dimensions. The first column show lower bounds and the second\n",
    "        column shows upper bounds.\n",
    "    \n",
    "    space_range : numpy.ndarray\n",
    "        has shape (p, 2), where p is the number of dimensions. The first column show lower bounds and the second\n",
    "        column shows upper bounds. The space defined by subspace_range is a subset of this space.\n",
    "    \n",
    "    Returns\n",
    "    ----------\n",
    "        adj_identifier_below : numpy.ndarray\n",
    "            has shape (p, 2), where the i-th row is the identifer of its corresponding adjacent space, below the subspace \n",
    "            \n",
    "            \n",
    "        adj_identifier_above: numpy.ndarray\n",
    "            has shape (p, 2), where the i-th row is the identifer of its corresponding adjacent space, above the subspace\n",
    "            \n",
    "    \n",
    "    NOTE\n",
    "    ---------\n",
    "    `adj_identifier` is basically the boundary of one dimensions and the boundaries of other dimensions should be selected\n",
    "    from subspace range. So, the i-th row of adj-identifier gives boundary of adj space in the i-th dimension, and the \n",
    "    boundaries in other dimension for that adj space are the same as what provided in the subsapce range.\n",
    "    \n",
    "    \n",
    "    \"\"\"\n",
    "    if subspace_range.shape != space_range.shape:\n",
    "        raise ValueError(\"The two inputs must have the same shape.\")\n",
    "        \n",
    "    if (np.any(subspace_range < space_range[:,0]) \n",
    "        or \n",
    "        np.any(subspace_range > space_range[:,1])\n",
    "    ):\n",
    "        raise ValueError(\"subspace_range is not fully enclosed by space_range\")\n",
    "        \n",
    "    \n",
    "    adj_identifier_below = np.c_[space_range[:,0], subspace_range[:,0]]\n",
    "    adj_identifier_above = np.c_[subspace_range[:,1], space_range[:,1]]\n",
    "    \n",
    "    return adj_identifier_below, adj_identifier_above"
   ]
  },
  {
   "cell_type": "code",
   "execution_count": 13,
   "id": "fcd02811",
   "metadata": {},
   "outputs": [],
   "source": [
    "space_range = np.array([[-10.0, 10.0],[-5.0, 5.0]], dtype=np.float64)\n",
    "subspace_range = np.array([[-2.0, 2.0],[-4.0, 4.0]], dtype=np.float64)\n",
    "\n",
    "adj_identifier_below, adj_identifier_above = _get_adjacent_identifier(subspace_range, space_range)"
   ]
  },
  {
   "cell_type": "code",
   "execution_count": 14,
   "id": "45a59c4f",
   "metadata": {},
   "outputs": [
    {
     "data": {
      "text/plain": [
       "array([[-10.,  -2.],\n",
       "       [ -5.,  -4.]])"
      ]
     },
     "execution_count": 14,
     "metadata": {},
     "output_type": "execute_result"
    }
   ],
   "source": [
    "adj_identifier_below"
   ]
  },
  {
   "cell_type": "markdown",
   "id": "ff1f7adb",
   "metadata": {},
   "source": [
    "let us consider the first row of `adj_identifier_below`, i.e., `[-10.,  -2.]`. This is the boundary of the first dimension and the boundary of the other dimension should be obtained from the `subspac_range`. Therefore, the boundary on the second dimension is `subspace_range[1]`, which is `[-4.0, 4.0]`."
   ]
  },
  {
   "cell_type": "markdown",
   "id": "3fee8a20",
   "metadata": {},
   "source": [
    "Note that the boundary of subspace in the first dimension is `[-2.0, 2.]`. The boundary of the aforementioned adjacent space in the first dimension is `[-10, 2]`. In other words, it is on the left of (below) `[-2.0, 2.]`. We can find the other adjacent spaces similarly."
   ]
  },
  {
   "cell_type": "code",
   "execution_count": 17,
   "id": "5205a205",
   "metadata": {},
   "outputs": [
    {
     "data": {
      "text/plain": [
       "array([[ 2., 10.],\n",
       "       [ 4.,  5.]])"
      ]
     },
     "execution_count": 17,
     "metadata": {},
     "output_type": "execute_result"
    }
   ],
   "source": [
    "adj_identifier_above"
   ]
  },
  {
   "cell_type": "markdown",
   "id": "a1753395",
   "metadata": {},
   "source": [
    "# RandomForest Path"
   ]
  },
  {
   "cell_type": "markdown",
   "id": "e9a40ded",
   "metadata": {},
   "source": [
    "The idea is to extract paths in RandomForest, and rank them."
   ]
  },
  {
   "cell_type": "markdown",
   "id": "f3291db2",
   "metadata": {},
   "source": [
    "### Random Forest Path Extracting"
   ]
  },
  {
   "cell_type": "code",
   "execution_count": 19,
   "id": "1a280e01",
   "metadata": {},
   "outputs": [],
   "source": [
    "iris_data = datasets.load_iris()\n",
    "X = iris_data['data']\n",
    "y = iris_data['target']\n",
    "\n",
    "#to drop class with label y=2\n",
    "mask = y == 2\n",
    "X = X[~mask]\n",
    "y = y[~mask]"
   ]
  },
  {
   "cell_type": "code",
   "execution_count": 20,
   "id": "204232a6",
   "metadata": {},
   "outputs": [
    {
     "data": {
      "text/plain": [
       "(100, 4)"
      ]
     },
     "execution_count": 20,
     "metadata": {},
     "output_type": "execute_result"
    }
   ],
   "source": [
    "X.shape"
   ]
  },
  {
   "cell_type": "code",
   "execution_count": 24,
   "id": "3a9c4b30",
   "metadata": {},
   "outputs": [],
   "source": [
    "seed = 0\n",
    "classifier = RandomForestClassifier(random_state=seed).fit(X, y)\n",
    "indicator, n_nodes_ptr = classifier.decision_path(X)"
   ]
  },
  {
   "cell_type": "code",
   "execution_count": 25,
   "id": "4d0ae23e",
   "metadata": {},
   "outputs": [
    {
     "data": {
      "text/plain": [
       "array([[1, 1, 0, ..., 1, 1, 0],\n",
       "       [1, 1, 0, ..., 1, 1, 0],\n",
       "       [1, 1, 0, ..., 1, 1, 0],\n",
       "       ...,\n",
       "       [1, 0, 1, ..., 1, 0, 1],\n",
       "       [1, 0, 1, ..., 1, 0, 1],\n",
       "       [1, 0, 1, ..., 1, 0, 1]], dtype=int64)"
      ]
     },
     "execution_count": 25,
     "metadata": {},
     "output_type": "execute_result"
    }
   ],
   "source": [
    "indicator = indicator.toarray()\n",
    "indicator"
   ]
  },
  {
   "cell_type": "code",
   "execution_count": 26,
   "id": "73825e4d",
   "metadata": {},
   "outputs": [
    {
     "data": {
      "text/plain": [
       "array([  0,   3,   6,  13,  22,  25,  28,  31,  34,  37,  40,  43,  46,\n",
       "        49,  56,  59,  66,  69,  76,  83,  86,  89,  92,  95,  98, 101,\n",
       "       104, 107, 110, 113, 116, 119, 122, 125, 136, 139, 142, 145, 148,\n",
       "       151, 154, 157, 160, 163, 166, 173, 176, 179, 182, 185, 188, 191,\n",
       "       194, 197, 200, 203, 206, 209, 212, 215, 218, 221, 224, 227, 234,\n",
       "       243, 246, 253, 256, 259, 266, 275, 278, 281, 284, 287, 294, 297,\n",
       "       300, 307, 310, 315, 318, 321, 324, 327, 330, 333, 336, 339, 342,\n",
       "       345, 348, 351, 354, 357, 360, 363, 366, 369, 372], dtype=int32)"
      ]
     },
     "execution_count": 26,
     "metadata": {},
     "output_type": "execute_result"
    }
   ],
   "source": [
    "n_nodes_ptr"
   ]
  },
  {
   "cell_type": "markdown",
   "id": "33a5db7f",
   "metadata": {},
   "source": [
    "What do these two outputs (i.e. `indicator` and `n_nodes_ptr`) tell us?!"
   ]
  },
  {
   "cell_type": "code",
   "execution_count": null,
   "id": "7af9d3cc",
   "metadata": {},
   "outputs": [],
   "source": []
  }
 ],
 "metadata": {
  "kernelspec": {
   "display_name": "Python 3 (ipykernel)",
   "language": "python",
   "name": "python3"
  },
  "language_info": {
   "codemirror_mode": {
    "name": "ipython",
    "version": 3
   },
   "file_extension": ".py",
   "mimetype": "text/x-python",
   "name": "python",
   "nbconvert_exporter": "python",
   "pygments_lexer": "ipython3",
   "version": "3.8.5"
  }
 },
 "nbformat": 4,
 "nbformat_minor": 5
}
